import pandas as pd
import plotly.express as px
df = pd.read_csv('https://github.com/bitfaster/BitFaster.Caching/blob/main/BitFaster.Caching.HitRateAnalysis/results.wikibench.csv')
df.head()